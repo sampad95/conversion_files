{
 "cells": [
  {
   "cell_type": "code",
   "execution_count": 1,
   "id": "aa09e4d5-ba72-43a5-8b55-028818979d24",
   "metadata": {},
   "outputs": [],
   "source": [
    "import numpy as np"
   ]
  },
  {
   "cell_type": "code",
   "execution_count": 2,
   "id": "cd8e2eb2-da82-4710-9566-dbb443973fa8",
   "metadata": {
    "tags": []
   },
   "outputs": [],
   "source": [
    "with open('POSCAR', 'r') as data:\n",
    "    file = data.readlines()"
   ]
  },
  {
   "cell_type": "code",
   "execution_count": 3,
   "id": "37cc9bb8-75e6-40b2-be62-0eb1951e3db1",
   "metadata": {
    "tags": []
   },
   "outputs": [
    {
     "name": "stdout",
     "output_type": "stream",
     "text": [
      "['K4ZnAs2                                 \\n', '1.0\\n', '        9.5081825256         0.0000000000         0.0000000000\\n', '        7.7694339556         5.4810063811         0.0000000000\\n', '        7.7694339556         2.4647101720         4.8955729714\\n', '    K   Zn   As\\n', '    4    1    2\\n', 'Cartesian\\n', '     9.669735938         3.067546061         1.889998905\\n', '     5.246399728         1.664323920         1.025435421\\n', '    19.800651455         6.281392870         3.870137696\\n', '    15.377314498         4.878170492         3.005574066\\n', '     0.000000000         0.000000000         0.000000000\\n', '     2.165499537         0.686964941         0.423257861\\n', '    22.881551273         7.258751731         4.472315183\\n']\n"
     ]
    }
   ],
   "source": [
    "print(file)"
   ]
  },
  {
   "cell_type": "code",
   "execution_count": 4,
   "id": "f3499ee7-1092-4b71-ab53-361801e0ce6e",
   "metadata": {
    "tags": []
   },
   "outputs": [],
   "source": [
    "lm = np.array([list(map(float, file[2:5][i].split())) for i in range(len(file[2:5]))]).T"
   ]
  },
  {
   "cell_type": "code",
   "execution_count": 5,
   "id": "a2ed1d9e-e069-454b-9a23-39c95cd2ae0a",
   "metadata": {
    "tags": []
   },
   "outputs": [
    {
     "data": {
      "text/plain": [
       "array([[9.50818253, 7.76943396, 7.76943396],\n",
       "       [0.        , 5.48100638, 2.46471017],\n",
       "       [0.        , 0.        , 4.89557297]])"
      ]
     },
     "execution_count": 5,
     "metadata": {},
     "output_type": "execute_result"
    }
   ],
   "source": [
    "lm"
   ]
  },
  {
   "cell_type": "code",
   "execution_count": 21,
   "id": "44e0f755-f4e7-4af6-8e05-20a1f7cf06bc",
   "metadata": {
    "tags": []
   },
   "outputs": [
    {
     "data": {
      "text/plain": [
       "['    K   Zn   As\\n', '    4    1    2\\n']"
      ]
     },
     "execution_count": 21,
     "metadata": {},
     "output_type": "execute_result"
    }
   ],
   "source": [
    "file[5:7]"
   ]
  },
  {
   "cell_type": "code",
   "execution_count": 24,
   "id": "73be01bd-0aa5-4d9a-b57e-ffd2f9eca0a9",
   "metadata": {
    "tags": []
   },
   "outputs": [
    {
     "data": {
      "text/plain": [
       "['K', 'Zn', 'As']"
      ]
     },
     "execution_count": 24,
     "metadata": {},
     "output_type": "execute_result"
    }
   ],
   "source": [
    "list(file[5].split())"
   ]
  },
  {
   "cell_type": "code",
   "execution_count": 31,
   "id": "8cc124f6-60a8-4bd6-a285-d83e77515a87",
   "metadata": {
    "tags": []
   },
   "outputs": [],
   "source": [
    "elements = list(file[5].split())"
   ]
  },
  {
   "cell_type": "code",
   "execution_count": 84,
   "id": "f2da88f5-b93e-4f26-a2fc-a1c02848f95d",
   "metadata": {
    "tags": []
   },
   "outputs": [
    {
     "data": {
      "text/plain": [
       "['K', 'Zn', 'As']"
      ]
     },
     "execution_count": 84,
     "metadata": {},
     "output_type": "execute_result"
    }
   ],
   "source": [
    "list(elements)"
   ]
  },
  {
   "cell_type": "code",
   "execution_count": 83,
   "id": "8d089682-427d-4df9-9b93-2e4fce5889fe",
   "metadata": {
    "tags": []
   },
   "outputs": [
    {
     "data": {
      "text/plain": [
       "1"
      ]
     },
     "execution_count": 83,
     "metadata": {},
     "output_type": "execute_result"
    }
   ],
   "source": [
    "elements.index(\"Zn\")"
   ]
  },
  {
   "cell_type": "code",
   "execution_count": 95,
   "id": "1a6d7105-2b62-4967-baf0-b83ce2b68375",
   "metadata": {
    "tags": []
   },
   "outputs": [],
   "source": [
    "element_num = zip(list(file[5].split()), list(map(int, file[6].split())))"
   ]
  },
  {
   "cell_type": "code",
   "execution_count": 57,
   "id": "9ce7db55-78bd-4237-82b0-f2805980f073",
   "metadata": {
    "tags": []
   },
   "outputs": [
    {
     "name": "stdout",
     "output_type": "stream",
     "text": [
      "4\n",
      "1\n",
      "2\n"
     ]
    }
   ],
   "source": [
    "for (element, num) in element_num:\n",
    "    print(num)"
   ]
  },
  {
   "cell_type": "code",
   "execution_count": 60,
   "id": "e04bd056-f9f0-4908-8924-cd2649124a95",
   "metadata": {
    "tags": []
   },
   "outputs": [
    {
     "name": "stdout",
     "output_type": "stream",
     "text": [
      "0 4\n",
      "1 1\n",
      "2 2\n"
     ]
    }
   ],
   "source": [
    "for i, (element, num) in enumerate(element_num):\n",
    "    print(i, num)"
   ]
  },
  {
   "cell_type": "code",
   "execution_count": 81,
   "id": "76c828aa-3563-40d0-9c8e-8c586987736b",
   "metadata": {
    "tags": []
   },
   "outputs": [
    {
     "name": "stdout",
     "output_type": "stream",
     "text": [
      "4\n",
      "5\n",
      "7\n",
      "[0, 4, 5, 7]\n"
     ]
    }
   ],
   "source": [
    "s = 0\n",
    "l = [0]\n",
    "for i, (element, num) in enumerate(element_num):\n",
    "    s = s + num\n",
    "    l = l+[s]\n",
    "    print(s)\n",
    "print(l)"
   ]
  },
  {
   "cell_type": "code",
   "execution_count": 52,
   "id": "4db5b412-802e-46ba-8762-2b71c9930f8d",
   "metadata": {
    "tags": []
   },
   "outputs": [
    {
     "data": {
      "text/plain": [
       "[('K', 4), ('Zn', 1), ('As', 2)]"
      ]
     },
     "execution_count": 52,
     "metadata": {},
     "output_type": "execute_result"
    }
   ],
   "source": [
    "list(element_num)"
   ]
  },
  {
   "cell_type": "code",
   "execution_count": 47,
   "id": "09ba46a1-a8c6-4cb9-8ed2-789e4809fe82",
   "metadata": {
    "tags": []
   },
   "outputs": [
    {
     "data": {
      "text/plain": [
       "[5, 6]"
      ]
     },
     "execution_count": 47,
     "metadata": {},
     "output_type": "execute_result"
    }
   ],
   "source": [
    "list(range(0+4+1, (0+4+1)+2, 1))"
   ]
  },
  {
   "cell_type": "code",
   "execution_count": 97,
   "id": "7c4bdc26-2968-4158-a691-be157118992b",
   "metadata": {
    "tags": []
   },
   "outputs": [],
   "source": [
    "def element_pos(ele):\n",
    "    n = elements.index(ele)\n",
    "    \n",
    "    s = 0\n",
    "    l = [0]\n",
    "    for num in list(map(int, file[6].split())):\n",
    "        s = s + num\n",
    "        l = l+[s]\n",
    "\n",
    "    start = l[n]\n",
    "    stop = l[n+1]\n",
    "    return list(range(start, stop, 1))"
   ]
  },
  {
   "cell_type": "code",
   "execution_count": 101,
   "id": "2dbf2ccc-25b7-4dec-8731-a45b5dc0b6e8",
   "metadata": {
    "tags": []
   },
   "outputs": [
    {
     "data": {
      "text/plain": [
       "[5, 6]"
      ]
     },
     "execution_count": 101,
     "metadata": {},
     "output_type": "execute_result"
    }
   ],
   "source": [
    "element_pos(\"As\")"
   ]
  },
  {
   "cell_type": "code",
   "execution_count": null,
   "id": "7f175e29-1e64-4666-b018-e94f2744030c",
   "metadata": {},
   "outputs": [],
   "source": []
  },
  {
   "cell_type": "code",
   "execution_count": null,
   "id": "daebdea3-ca53-4aa1-971c-e9f9961fbc0a",
   "metadata": {},
   "outputs": [],
   "source": []
  },
  {
   "cell_type": "code",
   "execution_count": 132,
   "id": "b80bec26-9e2c-4cd4-9d2f-64f0d1d9c731",
   "metadata": {
    "tags": []
   },
   "outputs": [],
   "source": [
    "carte_coord_matrix = np.array([list(map(float, j.split()[:3])) for j in file[8:]]).T"
   ]
  },
  {
   "cell_type": "code",
   "execution_count": 133,
   "id": "5b6f84a1-599d-4c88-8ccc-d049a4371eca",
   "metadata": {
    "tags": []
   },
   "outputs": [
    {
     "data": {
      "text/plain": [
       "array([[ 9.66973594,  5.24639973, 19.80065146, 15.3773145 ,  0.        ,\n",
       "         2.16549954, 22.88155127],\n",
       "       [ 3.06754606,  1.66432392,  6.28139287,  4.87817049,  0.        ,\n",
       "         0.68696494,  7.25875173],\n",
       "       [ 1.8899989 ,  1.02543542,  3.8701377 ,  3.00557407,  0.        ,\n",
       "         0.42325786,  4.47231518]])"
      ]
     },
     "execution_count": 133,
     "metadata": {},
     "output_type": "execute_result"
    }
   ],
   "source": [
    "carte_coord_matrix"
   ]
  },
  {
   "cell_type": "code",
   "execution_count": 134,
   "id": "2fbc440e-5cc4-4b26-a29a-6bc6bc6c49cc",
   "metadata": {
    "tags": []
   },
   "outputs": [],
   "source": [
    "carte_coord_matrix[2][0] = carte_coord_matrix[2][0] - 0.06"
   ]
  },
  {
   "cell_type": "code",
   "execution_count": 135,
   "id": "98c3877d-5ae5-4b30-9e70-859763c366a5",
   "metadata": {
    "tags": []
   },
   "outputs": [
    {
     "data": {
      "text/plain": [
       "array([[ 9.66973594,  5.24639973, 19.80065146, 15.3773145 ,  0.        ,\n",
       "         2.16549954, 22.88155127],\n",
       "       [ 3.06754606,  1.66432392,  6.28139287,  4.87817049,  0.        ,\n",
       "         0.68696494,  7.25875173],\n",
       "       [ 1.8299989 ,  1.02543542,  3.8701377 ,  3.00557407,  0.        ,\n",
       "         0.42325786,  4.47231518]])"
      ]
     },
     "execution_count": 135,
     "metadata": {},
     "output_type": "execute_result"
    }
   ],
   "source": [
    "carte_coord_matrix"
   ]
  },
  {
   "cell_type": "code",
   "execution_count": 16,
   "id": "230c7866-f5e2-41a6-9a26-e851063342d3",
   "metadata": {
    "tags": []
   },
   "outputs": [
    {
     "data": {
      "text/plain": [
       "4.472315183"
      ]
     },
     "execution_count": 16,
     "metadata": {},
     "output_type": "execute_result"
    }
   ],
   "source": [
    "max(carte_coord_matrix[2])"
   ]
  },
  {
   "cell_type": "code",
   "execution_count": 17,
   "id": "ef6b559c-3a99-449d-b77c-fda8ce11b302",
   "metadata": {
    "tags": []
   },
   "outputs": [
    {
     "data": {
      "text/plain": [
       "0.0"
      ]
     },
     "execution_count": 17,
     "metadata": {},
     "output_type": "execute_result"
    }
   ],
   "source": [
    "min(carte_coord_matrix[2])"
   ]
  },
  {
   "cell_type": "code",
   "execution_count": 18,
   "id": "53ee6113-28c3-4032-9e09-440a0cc9eae9",
   "metadata": {
    "tags": []
   },
   "outputs": [
    {
     "data": {
      "text/plain": [
       "4.472315183"
      ]
     },
     "execution_count": 18,
     "metadata": {},
     "output_type": "execute_result"
    }
   ],
   "source": [
    "max(carte_coord_matrix[2])-min(carte_coord_matrix[2])"
   ]
  },
  {
   "cell_type": "code",
   "execution_count": 168,
   "id": "0287e268-b2f5-4433-9712-a385d79f402a",
   "metadata": {},
   "outputs": [],
   "source": [
    "def at_disp(str_file):\n",
    "    with open(str_file, 'r') as data:\n",
    "        fl = data.readlines()\n",
    "        \n",
    "        scale_factor = float(fl[1])\n",
    "        lattice_vectors = scale_factor*np.array([list(map(float, i.split())) for i in fl[2:5]])\n",
    "        \n",
    "        Coord_mat = np.array([list(map(float, fl[8:][i].split())) for i in range(len(fl[8:]))]).T\n",
    "        \n",
    "        elements = list(fl[5].split())\n",
    "        \n",
    "        ele = input(\"Enter the element\\n\")\n",
    "        axis = input(\"Enter the axis\\n\")\n",
    "        \n",
    "        def element_pos(ele):\n",
    "            n = elements.index(ele)\n",
    "    \n",
    "            s = 0\n",
    "            l = [0]\n",
    "            for num in list(map(int, fl[6].split())):\n",
    "                s = s + num\n",
    "                l = l+[s]\n",
    "\n",
    "            start = l[n]\n",
    "            stop = l[n+1]\n",
    "            return list(range(start, stop, 1))\n",
    "        \n",
    "        if axis == \"X\":\n",
    "            c = 0\n",
    "        elif axis == \"Y\":\n",
    "            c = 1\n",
    "        elif axis == \"Z\":\n",
    "            c = 2\n",
    "        else:\n",
    "            print(\"Type error\")\n",
    "        for disp in [-0.06, -0.05, -0.04, -0.03, -0.02, -0.01, 0.00, \n",
    "                     +0.01, +0.02, +0.03, +0.04, +0.05, +0.06]:\n",
    "            new_Coord_mat = Coord_mat.copy()\n",
    "            for p in element_pos(ele):\n",
    "                new_Coord_mat[c][p] = new_Coord_mat[c][p] + disp\n",
    "            new_Coord = new_Coord_mat.T\n",
    "            # print(new_Coord)\n",
    "\n",
    "                \n",
    "                \n",
    "\n",
    "            with open('POSCAR_'+str(disp), 'w') as output:\n",
    "                output.write(\"generated by sampad's python code\" +'\\n')\n",
    "                output.write(\"1.0\" + '\\n')\n",
    "            \n",
    "                for lv in lattice_vectors:\n",
    "                    output.write('\\t'+\"{:.16f}\".format(lv[0])+'\\t'+\"{:.16f}\".format(lv[1])+\n",
    "                                    '\\t'+\"{:.16f}\".format(lv[2])+'\\n')\n",
    "                \n",
    "                output.writelines(fl[5:8])\n",
    "                for nc in new_Coord:\n",
    "                    output.write('\\t'+\"{:.16f}\".format(nc[0])+'\\t'+\"{:.16f}\".format(nc[1])+\n",
    "                                 '\\t'+\"{:.16f}\".format(nc[2])+'\\n')\n",
    "        "
   ]
  },
  {
   "cell_type": "code",
   "execution_count": 167,
   "id": "b56832eb-81e3-4367-84da-6721c92aca5e",
   "metadata": {
    "tags": []
   },
   "outputs": [
    {
     "name": "stdin",
     "output_type": "stream",
     "text": [
      "Enter the element\n",
      " K\n",
      "Enter the axis\n",
      " Z\n"
     ]
    }
   ],
   "source": [
    "at_disp(\"POSCAR\")"
   ]
  },
  {
   "cell_type": "code",
   "execution_count": 136,
   "id": "7c5c2477-6386-46da-b670-b381a4e25e56",
   "metadata": {
    "tags": []
   },
   "outputs": [],
   "source": [
    "a = np.array([[1, 2, 3], [4, 5, 6], [7, 8, 9]])"
   ]
  },
  {
   "cell_type": "code",
   "execution_count": 137,
   "id": "54bb3117-16dc-4485-ad88-2b1e77da68cb",
   "metadata": {
    "tags": []
   },
   "outputs": [
    {
     "data": {
      "text/plain": [
       "array([[1, 2, 3],\n",
       "       [4, 5, 6],\n",
       "       [7, 8, 9]])"
      ]
     },
     "execution_count": 137,
     "metadata": {},
     "output_type": "execute_result"
    }
   ],
   "source": [
    "a"
   ]
  },
  {
   "cell_type": "code",
   "execution_count": 153,
   "id": "c02ec71b-2247-4249-8e13-5fc468ec9952",
   "metadata": {
    "tags": []
   },
   "outputs": [],
   "source": [
    "b = a.copy()"
   ]
  },
  {
   "cell_type": "code",
   "execution_count": 154,
   "id": "8d58155b-c7a0-45e8-b1f7-323208180e50",
   "metadata": {
    "tags": []
   },
   "outputs": [
    {
     "data": {
      "text/plain": [
       "array([[1, 2, 3],\n",
       "       [4, 5, 6],\n",
       "       [7, 8, 9]])"
      ]
     },
     "execution_count": 154,
     "metadata": {},
     "output_type": "execute_result"
    }
   ],
   "source": [
    "b"
   ]
  },
  {
   "cell_type": "code",
   "execution_count": 155,
   "id": "7094be6e-2745-48ed-bc81-80871f7975e6",
   "metadata": {
    "tags": []
   },
   "outputs": [
    {
     "name": "stdout",
     "output_type": "stream",
     "text": [
      "[[ 1  2  3]\n",
      " [ 4 10  6]\n",
      " [ 7  8  9]]\n",
      "[[ 1  2  3]\n",
      " [ 4 11  6]\n",
      " [ 7  8  9]]\n",
      "[[ 1  2  3]\n",
      " [ 4 12  6]\n",
      " [ 7  8  9]]\n",
      "[[ 1  2  3]\n",
      " [ 4 13  6]\n",
      " [ 7  8  9]]\n",
      "[[ 1  2  3]\n",
      " [ 4 14  6]\n",
      " [ 7  8  9]]\n"
     ]
    }
   ],
   "source": [
    "for x in range(5,10,1):\n",
    "    b[1][1] = a.copy()[1][1] + x\n",
    "    print(b)"
   ]
  },
  {
   "cell_type": "code",
   "execution_count": 148,
   "id": "99d2ab38-e450-477a-af53-470a91df8190",
   "metadata": {
    "tags": []
   },
   "outputs": [
    {
     "data": {
      "text/plain": [
       "array([[ 1,  2,  3],\n",
       "       [ 4, 45,  6],\n",
       "       [ 7,  8,  9]])"
      ]
     },
     "execution_count": 148,
     "metadata": {},
     "output_type": "execute_result"
    }
   ],
   "source": [
    "b"
   ]
  },
  {
   "cell_type": "code",
   "execution_count": 142,
   "id": "186cf8e0-aa58-4385-8f00-413965933812",
   "metadata": {
    "tags": []
   },
   "outputs": [
    {
     "data": {
      "text/plain": [
       "array([[1, 2, 3],\n",
       "       [4, 5, 6],\n",
       "       [7, 8, 9]])"
      ]
     },
     "execution_count": 142,
     "metadata": {},
     "output_type": "execute_result"
    }
   ],
   "source": [
    "a"
   ]
  },
  {
   "cell_type": "code",
   "execution_count": null,
   "id": "ada96073-facc-4c04-934a-7890aecc53e9",
   "metadata": {},
   "outputs": [],
   "source": []
  }
 ],
 "metadata": {
  "kernelspec": {
   "display_name": "Python 3 (ipykernel)",
   "language": "python",
   "name": "python3"
  },
  "language_info": {
   "codemirror_mode": {
    "name": "ipython",
    "version": 3
   },
   "file_extension": ".py",
   "mimetype": "text/x-python",
   "name": "python",
   "nbconvert_exporter": "python",
   "pygments_lexer": "ipython3",
   "version": "3.7.9"
  }
 },
 "nbformat": 4,
 "nbformat_minor": 5
}
