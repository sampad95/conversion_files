{
 "cells": [
  {
   "cell_type": "code",
   "execution_count": 1,
   "id": "aa09e4d5-ba72-43a5-8b55-028818979d24",
   "metadata": {},
   "outputs": [],
   "source": [
    "import numpy as np"
   ]
  },
  {
   "cell_type": "code",
   "execution_count": 2,
   "id": "cd8e2eb2-da82-4710-9566-dbb443973fa8",
   "metadata": {
    "tags": []
   },
   "outputs": [],
   "source": [
    "with open('POSCAR_carte.vasp', 'r') as data:\n",
    "    file = data.readlines()"
   ]
  },
  {
   "cell_type": "code",
   "execution_count": 3,
   "id": "37cc9bb8-75e6-40b2-be62-0eb1951e3db1",
   "metadata": {
    "tags": []
   },
   "outputs": [
    {
     "name": "stdout",
     "output_type": "stream",
     "text": [
      "['\"Se1 Ag1 I2 Cu1 S1\"\\n', '1.0\\n', '        3.8594527245         0.0000000000         0.0000000000\\n', '       -1.9461213380         4.5835289618         0.0000000000\\n', '        0.0000000000         0.0000000000        21.6476936340\\n', '   Se   Ag    I   Cu    S\\n', '    1    1    2    1    1\\n', 'Cartesian\\n', '    -0.024200738         3.594885940        10.578389880\\n', '     1.907480793         3.140505257         8.756403209\\n', '    -0.017437965         1.468261065         7.499697032\\n', '     1.902610462         2.839461957        14.142503782\\n', '    -0.023002148         1.805596476        12.612436573\\n', '     1.910933486         0.972965871        11.510610636\\n']\n"
     ]
    }
   ],
   "source": [
    "print(file)"
   ]
  },
  {
   "cell_type": "code",
   "execution_count": 4,
   "id": "f3499ee7-1092-4b71-ab53-361801e0ce6e",
   "metadata": {
    "tags": []
   },
   "outputs": [],
   "source": [
    "lm = np.array([list(map(float, file[2:5][i].split())) for i in range(len(file[2:5]))]).T"
   ]
  },
  {
   "cell_type": "code",
   "execution_count": 5,
   "id": "a2ed1d9e-e069-454b-9a23-39c95cd2ae0a",
   "metadata": {
    "tags": []
   },
   "outputs": [
    {
     "data": {
      "text/plain": [
       "array([[ 3.85945272, -1.94612134,  0.        ],\n",
       "       [ 0.        ,  4.58352896,  0.        ],\n",
       "       [ 0.        ,  0.        , 21.64769363]])"
      ]
     },
     "execution_count": 5,
     "metadata": {},
     "output_type": "execute_result"
    }
   ],
   "source": [
    "lm"
   ]
  },
  {
   "cell_type": "code",
   "execution_count": 6,
   "id": "fcbb1039-162a-4aff-9120-448767883b9b",
   "metadata": {
    "tags": []
   },
   "outputs": [],
   "source": [
    "a1 = np.array([1, 0, 0])"
   ]
  },
  {
   "cell_type": "code",
   "execution_count": 7,
   "id": "11591ae2-0e82-4551-8ff3-788a83a13993",
   "metadata": {
    "tags": []
   },
   "outputs": [],
   "source": [
    "b1 = np.dot(np.linalg.inv(lm), a1).T"
   ]
  },
  {
   "cell_type": "code",
   "execution_count": 8,
   "id": "35cacdfc-1e84-4ab9-ae7a-e2b19daa4940",
   "metadata": {
    "tags": []
   },
   "outputs": [
    {
     "data": {
      "text/plain": [
       "array([0.25910409, 0.        , 0.        ])"
      ]
     },
     "execution_count": 8,
     "metadata": {},
     "output_type": "execute_result"
    }
   ],
   "source": [
    "b1"
   ]
  },
  {
   "cell_type": "code",
   "execution_count": 9,
   "id": "a6d7445e-0dbe-4557-ae5f-3477c8a8b8e4",
   "metadata": {
    "tags": []
   },
   "outputs": [],
   "source": [
    "lm2 = np.array([list(map(float, file[2:5][i].split())) for i in range(len(file[2:5]))])"
   ]
  },
  {
   "cell_type": "code",
   "execution_count": 10,
   "id": "a7d4365b-2d68-4203-ad55-7bd7ffe75b67",
   "metadata": {
    "tags": []
   },
   "outputs": [
    {
     "data": {
      "text/plain": [
       "array([[ 3.85945272,  0.        ,  0.        ],\n",
       "       [-1.94612134,  4.58352896,  0.        ],\n",
       "       [ 0.        ,  0.        , 21.64769363]])"
      ]
     },
     "execution_count": 10,
     "metadata": {},
     "output_type": "execute_result"
    }
   ],
   "source": [
    "lm2"
   ]
  },
  {
   "cell_type": "code",
   "execution_count": 11,
   "id": "f81eb1ec-9579-4821-a8d8-1c810a7819fe",
   "metadata": {
    "tags": []
   },
   "outputs": [],
   "source": [
    "b2 = np.dot(np.linalg.inv(lm2), a1)"
   ]
  },
  {
   "cell_type": "code",
   "execution_count": 12,
   "id": "ae25e8b9-e531-4aa7-beb1-61417a0a051b",
   "metadata": {
    "tags": []
   },
   "outputs": [
    {
     "data": {
      "text/plain": [
       "array([0.25910409, 0.11001305, 0.        ])"
      ]
     },
     "execution_count": 12,
     "metadata": {},
     "output_type": "execute_result"
    }
   ],
   "source": [
    "b2"
   ]
  },
  {
   "cell_type": "code",
   "execution_count": 13,
   "id": "954b2d95-bd44-4035-a16a-1f9381bb6d33",
   "metadata": {
    "tags": []
   },
   "outputs": [],
   "source": [
    "carte_coord_matrix = np.array([list(map(float, j.split()[:3])) for j in file[8:]]).T"
   ]
  },
  {
   "cell_type": "code",
   "execution_count": 14,
   "id": "5b6f84a1-599d-4c88-8ccc-d049a4371eca",
   "metadata": {
    "tags": []
   },
   "outputs": [
    {
     "data": {
      "text/plain": [
       "array([[-0.02420074,  1.90748079, -0.01743796,  1.90261046, -0.02300215,\n",
       "         1.91093349],\n",
       "       [ 3.59488594,  3.14050526,  1.46826107,  2.83946196,  1.80559648,\n",
       "         0.97296587],\n",
       "       [10.57838988,  8.75640321,  7.49969703, 14.14250378, 12.61243657,\n",
       "        11.51061064]])"
      ]
     },
     "execution_count": 14,
     "metadata": {},
     "output_type": "execute_result"
    }
   ],
   "source": [
    "carte_coord_matrix"
   ]
  },
  {
   "cell_type": "code",
   "execution_count": 15,
   "id": "2fbc440e-5cc4-4b26-a29a-6bc6bc6c49cc",
   "metadata": {
    "tags": []
   },
   "outputs": [
    {
     "data": {
      "text/plain": [
       "array([10.57838988,  8.75640321,  7.49969703, 14.14250378, 12.61243657,\n",
       "       11.51061064])"
      ]
     },
     "execution_count": 15,
     "metadata": {},
     "output_type": "execute_result"
    }
   ],
   "source": [
    "carte_coord_matrix[2]"
   ]
  },
  {
   "cell_type": "code",
   "execution_count": 16,
   "id": "230c7866-f5e2-41a6-9a26-e851063342d3",
   "metadata": {
    "tags": []
   },
   "outputs": [
    {
     "data": {
      "text/plain": [
       "14.142503782"
      ]
     },
     "execution_count": 16,
     "metadata": {},
     "output_type": "execute_result"
    }
   ],
   "source": [
    "max(carte_coord_matrix[2])"
   ]
  },
  {
   "cell_type": "code",
   "execution_count": 17,
   "id": "ef6b559c-3a99-449d-b77c-fda8ce11b302",
   "metadata": {
    "tags": []
   },
   "outputs": [
    {
     "data": {
      "text/plain": [
       "7.499697032"
      ]
     },
     "execution_count": 17,
     "metadata": {},
     "output_type": "execute_result"
    }
   ],
   "source": [
    "min(carte_coord_matrix[2])"
   ]
  },
  {
   "cell_type": "code",
   "execution_count": 18,
   "id": "53ee6113-28c3-4032-9e09-440a0cc9eae9",
   "metadata": {
    "tags": []
   },
   "outputs": [
    {
     "data": {
      "text/plain": [
       "6.64280675"
      ]
     },
     "execution_count": 18,
     "metadata": {},
     "output_type": "execute_result"
    }
   ],
   "source": [
    "max(carte_coord_matrix[2])-min(carte_coord_matrix[2])"
   ]
  },
  {
   "cell_type": "code",
   "execution_count": 19,
   "id": "fa387e34-d50d-4c03-9675-41b26d794ee7",
   "metadata": {
    "tags": []
   },
   "outputs": [],
   "source": [
    "def slab_width(str_file):\n",
    "    with open(str_file, 'r') as data:\n",
    "        fl = data.readlines()\n",
    "        \n",
    "        Coord_mat = np.array([list(map(float, fl[8:][i].split())) for i in range(len(fl[8:]))]).T\n",
    "    \n",
    "        axis=input(\"Enter the axis of non-periodicity\\n\")\n",
    "    \n",
    "    \n",
    "        if axis==\"X\" or axis==\"x\":\n",
    "            n=0\n",
    "        elif axis==\"Y\" or axis==\"y\":\n",
    "            n=1\n",
    "        elif axis==\"Z\" or axis==\"z\":\n",
    "            n=2\n",
    "        else:\n",
    "            print(\"Type error\")\n",
    "            \n",
    "        surface_width = max(Coord_mat[n]) - min(Coord_mat[n])\n",
    "    \n",
    "    return surface_width\n",
    "    "
   ]
  },
  {
   "cell_type": "code",
   "execution_count": 20,
   "id": "2b2c00b6-af2a-4a49-9539-3a721a3dabc1",
   "metadata": {
    "tags": []
   },
   "outputs": [
    {
     "name": "stdin",
     "output_type": "stream",
     "text": [
      "Enter the axis of non-periodicity\n",
      " z\n"
     ]
    },
    {
     "data": {
      "text/plain": [
       "6.64280675"
      ]
     },
     "execution_count": 20,
     "metadata": {},
     "output_type": "execute_result"
    }
   ],
   "source": [
    "slab_width(\"POSCAR_carte.vasp\")"
   ]
  },
  {
   "cell_type": "code",
   "execution_count": 21,
   "id": "d4733a24-dbf2-42c1-b231-4f26d510ed86",
   "metadata": {
    "tags": []
   },
   "outputs": [],
   "source": [
    "A = np.array([1, 2, 3])\n",
    "B = np.array([3, 2, 1])"
   ]
  },
  {
   "cell_type": "code",
   "execution_count": 22,
   "id": "1ec3944c-c467-4321-b132-947f4c849f5d",
   "metadata": {
    "tags": []
   },
   "outputs": [
    {
     "name": "stdout",
     "output_type": "stream",
     "text": [
      "[1 2 3]\n"
     ]
    }
   ],
   "source": [
    "print(A)"
   ]
  },
  {
   "cell_type": "code",
   "execution_count": 23,
   "id": "2fa0e137-d89b-430f-81e4-19d7c8d6fd6b",
   "metadata": {
    "tags": []
   },
   "outputs": [
    {
     "data": {
      "text/plain": [
       "10"
      ]
     },
     "execution_count": 23,
     "metadata": {},
     "output_type": "execute_result"
    }
   ],
   "source": [
    "np.inner(A, B)"
   ]
  },
  {
   "cell_type": "code",
   "execution_count": 24,
   "id": "b8e23d86-6961-4fda-bf7d-5401659e711a",
   "metadata": {
    "tags": []
   },
   "outputs": [
    {
     "data": {
      "text/plain": [
       "10"
      ]
     },
     "execution_count": 24,
     "metadata": {},
     "output_type": "execute_result"
    }
   ],
   "source": [
    "np.inner(B, A)"
   ]
  },
  {
   "cell_type": "code",
   "execution_count": 25,
   "id": "16e632ff-44b6-4c71-9eb9-79dcfc56220c",
   "metadata": {
    "tags": []
   },
   "outputs": [
    {
     "data": {
      "text/plain": [
       "array([[3, 2, 1],\n",
       "       [6, 4, 2],\n",
       "       [9, 6, 3]])"
      ]
     },
     "execution_count": 25,
     "metadata": {},
     "output_type": "execute_result"
    }
   ],
   "source": [
    "np.outer(A, B)"
   ]
  },
  {
   "cell_type": "code",
   "execution_count": 26,
   "id": "5c745e19-51be-4ca0-9c2b-9b71067b1b6a",
   "metadata": {
    "tags": []
   },
   "outputs": [
    {
     "data": {
      "text/plain": [
       "array([[3, 6, 9],\n",
       "       [2, 4, 6],\n",
       "       [1, 2, 3]])"
      ]
     },
     "execution_count": 26,
     "metadata": {},
     "output_type": "execute_result"
    }
   ],
   "source": [
    "np.outer(B, A)"
   ]
  },
  {
   "cell_type": "code",
   "execution_count": null,
   "id": "1909155f-29dd-47d3-b0a8-6d824f99641a",
   "metadata": {},
   "outputs": [],
   "source": []
  }
 ],
 "metadata": {
  "kernelspec": {
   "display_name": "Python 3 (ipykernel)",
   "language": "python",
   "name": "python3"
  },
  "language_info": {
   "codemirror_mode": {
    "name": "ipython",
    "version": 3
   },
   "file_extension": ".py",
   "mimetype": "text/x-python",
   "name": "python",
   "nbconvert_exporter": "python",
   "pygments_lexer": "ipython3",
   "version": "3.7.9"
  }
 },
 "nbformat": 4,
 "nbformat_minor": 5
}
